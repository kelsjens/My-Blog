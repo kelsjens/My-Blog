{
 "cells": [
  {
   "cell_type": "code",
   "execution_count": 52,
   "metadata": {},
   "outputs": [],
   "source": [
    "import pandas as pd \n",
    "import time\n",
    "import requests\n",
    "import json\n",
    "\n",
    "API_KEY = \"295202-66cdaf\"\n",
    "AIRPORT_IATA = \"SLC\"\n",
    "DATE_FROM = \"2024-05-10\"\n",
    "DATE_TO = \"2024-06-01\""
   ]
  },
  {
   "cell_type": "code",
   "execution_count": 53,
   "metadata": {},
   "outputs": [],
   "source": [
    "def get_flight_data(airport_iata, date_from, date_to, api_key):\n",
    "    url = f\"https://aviation-edge.com/v2/public/flightsHistory?key={api_key}&code={airport_iata}&type=departure&date_from={date_from}&date_to={date_to}\"\n",
    "    \n",
    "    response = requests.get(url)\n",
    "    \n",
    "    if response.status_code == 200:\n",
    "        return response.json()\n",
    "    else:\n",
    "        print(f\"Error: {response.status_code}, {response.text}\")\n",
    "        return None\n"
   ]
  },
  {
   "cell_type": "code",
   "execution_count": 54,
   "metadata": {},
   "outputs": [],
   "source": [
    "def process_flight_data(flight_data):\n",
    "    flight_list = []\n",
    "\n",
    "    for flight in flight_data:\n",
    "        try:\n",
    "            flight_list.append({\n",
    "                \"Flight Number\": flight.get(\"flight\", {}).get(\"iataNumber\", \"N/A\"),\n",
    "                \"Airline\": flight.get(\"airline\", {}).get(\"name\", \"N/A\"),\n",
    "                \"Departure Airport\": flight.get(\"departure\", {}).get(\"iataCode\", \"N/A\"),\n",
    "                \"Scheduled Departure\": flight.get(\"departure\", {}).get(\"scheduledTime\", \"N/A\"),\n",
    "                \"Actual Departure\": flight.get(\"departure\", {}).get(\"actualTime\", \"N/A\"),\n",
    "                \"Status\": flight.get(\"status\", \"N/A\"),\n",
    "                \"Delay (minutes)\": flight.get(\"departure\", {}).get(\"delay\", \"N/A\")\n",
    "            })\n",
    "        except Exception as e:\n",
    "            print(f\"Error processing flight: {e}\")\n",
    "\n",
    "    return pd.DataFrame(flight_list)\n",
    "\n"
   ]
  },
  {
   "cell_type": "code",
   "execution_count": null,
   "metadata": {},
   "outputs": [
    {
     "name": "stdout",
     "output_type": "stream",
     "text": [
      "[{'type': 'departure', 'status': 'active', 'departure': {'iataCode': 'slc', 'icaoCode': 'kslc', 'gate': 'b17', 'delay': 26, 'scheduledTime': '2024-05-09t18:00:00.000', 'estimatedTime': '2024-05-09t18:21:00.000', 'actualTime': '2024-05-09t18:26:00.000', 'estimatedRunway': '2024-05-09t18:26:00.000', 'actualRunway': '2024-05-09t18:26:00.000'}, 'arrival': {'iataCode': 'phx', 'icaoCode': 'kphx', 'terminal': '4', 'baggage': '2', 'gate': 'c6', 'scheduledTime': '2024-05-09t18:45:00.000', 'estimatedTime': '2024-05-09t18:40:00.000'}, 'airline': {'name': 'southwest airlines', 'iataCode': 'wn', 'icaoCode': 'swa'}, 'flight': {'number': '3885', 'iataNumber': 'wn3885', 'icaoNumber': 'swa3885'}}, {'type': 'departure', 'status': 'active', 'departure': {'iataCode': 'slc', 'icaoCode': 'kslc', 'gate': 'b20', 'delay': 13, 'scheduledTime': '2024-05-09t18:20:00.000', 'estimatedTime': '2024-05-09t18:38:00.000', 'actualTime': '2024-05-09t18:32:00.000', 'estimatedRunway': '2024-05-09t18:32:00.000', 'actualRunway': '2024-05-09t18:32:00.000'}, 'arrival': {'iataCode': 'las', 'icaoCode': 'klas', 'terminal': '1', 'gate': 'c11', 'scheduledTime': '2024-05-09t18:40:00.000', 'estimatedTime': '2024-05-09t18:31:00.000'}, 'airline': {'name': 'southwest airlines', 'iataCode': 'wn', 'icaoCode': 'swa'}, 'flight': {'number': '5813', 'iataNumber': 'wn5813', 'icaoNumber': 'swa5813'}}, {'type': 'departure', 'status': 'active', 'departure': {'iataCode': 'slc', 'icaoCode': 'kslc', 'gate': 'a14', 'delay': 75, 'scheduledTime': '2024-05-09t18:30:00.000', 'estimatedTime': '2024-05-09t19:45:00.000'}, 'arrival': {'iataCode': 'atl', 'icaoCode': 'katl', 'terminal': 's', 'baggage': '4', 'gate': 'b28', 'scheduledTime': '2024-05-10t00:09:00.000'}, 'airline': {'name': 'klm', 'iataCode': 'kl', 'icaoCode': 'klm'}, 'flight': {'number': '5011', 'iataNumber': 'kl5011', 'icaoNumber': 'klm5011'}, 'codeshared': {'airline': {'name': 'delta air lines', 'iataCode': 'dl', 'icaoCode': 'dal'}, 'flight': {'number': '1130', 'iataNumber': 'dl1130', 'icaoNumber': 'dal1130'}}}, {'type': 'departure', 'status': 'active', 'departure': {'iataCode': 'slc', 'icaoCode': 'kslc', 'gate': 'a14', 'delay': 75, 'scheduledTime': '2024-05-09t18:30:00.000', 'estimatedTime': '2024-05-09t19:45:00.000'}, 'arrival': {'iataCode': 'atl', 'icaoCode': 'katl', 'terminal': 's', 'baggage': '4', 'gate': 'b28', 'scheduledTime': '2024-05-10t00:09:00.000'}, 'airline': {'name': 'virgin atlantic', 'iataCode': 'vs', 'icaoCode': 'vir'}, 'flight': {'number': '3759', 'iataNumber': 'vs3759', 'icaoNumber': 'vir3759'}, 'codeshared': {'airline': {'name': 'delta air lines', 'iataCode': 'dl', 'icaoCode': 'dal'}, 'flight': {'number': '1130', 'iataNumber': 'dl1130', 'icaoNumber': 'dal1130'}}}, {'type': 'departure', 'status': 'active', 'departure': {'iataCode': 'slc', 'icaoCode': 'kslc', 'gate': 'a14', 'delay': 75, 'scheduledTime': '2024-05-09t18:30:00.000', 'estimatedTime': '2024-05-09t19:45:00.000'}, 'arrival': {'iataCode': 'atl', 'icaoCode': 'katl', 'terminal': 's', 'baggage': '4', 'gate': 'b28', 'scheduledTime': '2024-05-10t00:09:00.000'}, 'airline': {'name': 'delta air lines', 'iataCode': 'dl', 'icaoCode': 'dal'}, 'flight': {'number': '1130', 'iataNumber': 'dl1130', 'icaoNumber': 'dal1130'}}]\n"
     ]
    }
   ],
   "source": [
    "df = get_flight_data(AIRPORT_IATA, DATE_FROM, DATE_TO, API_KEY)\n",
    "df = pd.DataFrame(df) \n"
   ]
  },
  {
   "cell_type": "code",
   "execution_count": 61,
   "metadata": {},
   "outputs": [
    {
     "name": "stdout",
     "output_type": "stream",
     "text": [
      "       delay       scheduledTime          actualTime        date  \\\n",
      "0       26.0 2024-05-09 18:00:00 2024-05-09 18:26:00  2024-05-09   \n",
      "1       13.0 2024-05-09 18:20:00 2024-05-09 18:32:00  2024-05-09   \n",
      "2       75.0 2024-05-09 18:30:00                 NaT  2024-05-09   \n",
      "3       75.0 2024-05-09 18:30:00                 NaT  2024-05-09   \n",
      "4       75.0 2024-05-09 18:30:00                 NaT  2024-05-09   \n",
      "...      ...                 ...                 ...         ...   \n",
      "21606    NaN 2024-06-01 12:50:00 2024-06-01 12:50:00  2024-06-01   \n",
      "21607    NaN 2024-06-01 17:00:00                 NaT  2024-06-01   \n",
      "21608    NaN 2024-06-01 16:30:00 2024-06-01 16:26:00  2024-06-01   \n",
      "21609   10.0 2024-06-01 17:08:00                 NaT  2024-06-01   \n",
      "21610   14.0 2024-06-01 17:18:00                 NaT  2024-06-01   \n",
      "\n",
      "      Day of the week  \n",
      "0            Thursday  \n",
      "1            Thursday  \n",
      "2            Thursday  \n",
      "3            Thursday  \n",
      "4            Thursday  \n",
      "...               ...  \n",
      "21606        Saturday  \n",
      "21607        Saturday  \n",
      "21608        Saturday  \n",
      "21609        Saturday  \n",
      "21610        Saturday  \n",
      "\n",
      "[21611 rows x 5 columns]\n"
     ]
    },
    {
     "name": "stderr",
     "output_type": "stream",
     "text": [
      "C:\\Users\\User\\AppData\\Local\\Temp\\ipykernel_2884\\750878279.py:10: SettingWithCopyWarning: \n",
      "A value is trying to be set on a copy of a slice from a DataFrame.\n",
      "Try using .loc[row_indexer,col_indexer] = value instead\n",
      "\n",
      "See the caveats in the documentation: https://pandas.pydata.org/pandas-docs/stable/user_guide/indexing.html#returning-a-view-versus-a-copy\n",
      "  departure_df_result['scheduledTime'] = pd.to_datetime(departure_df_result['scheduledTime'], format='%Y-%m-%dT%H:%M:%S.%f')\n",
      "C:\\Users\\User\\AppData\\Local\\Temp\\ipykernel_2884\\750878279.py:11: SettingWithCopyWarning: \n",
      "A value is trying to be set on a copy of a slice from a DataFrame.\n",
      "Try using .loc[row_indexer,col_indexer] = value instead\n",
      "\n",
      "See the caveats in the documentation: https://pandas.pydata.org/pandas-docs/stable/user_guide/indexing.html#returning-a-view-versus-a-copy\n",
      "  departure_df_result['actualTime'] = pd.to_datetime(departure_df_result['actualTime'], format='%Y-%m-%dT%H:%M:%S.%f')\n",
      "C:\\Users\\User\\AppData\\Local\\Temp\\ipykernel_2884\\750878279.py:14: SettingWithCopyWarning: \n",
      "A value is trying to be set on a copy of a slice from a DataFrame.\n",
      "Try using .loc[row_indexer,col_indexer] = value instead\n",
      "\n",
      "See the caveats in the documentation: https://pandas.pydata.org/pandas-docs/stable/user_guide/indexing.html#returning-a-view-versus-a-copy\n",
      "  departure_df_result['date'] = departure_df_result['scheduledTime'].dt.date\n",
      "C:\\Users\\User\\AppData\\Local\\Temp\\ipykernel_2884\\750878279.py:15: SettingWithCopyWarning: \n",
      "A value is trying to be set on a copy of a slice from a DataFrame.\n",
      "Try using .loc[row_indexer,col_indexer] = value instead\n",
      "\n",
      "See the caveats in the documentation: https://pandas.pydata.org/pandas-docs/stable/user_guide/indexing.html#returning-a-view-versus-a-copy\n",
      "  departure_df_result['Day of the week'] = departure_df_result['scheduledTime'].dt.day_name()\n"
     ]
    }
   ],
   "source": [
    "departure_data = df['departure']\n",
    "\n",
    "# Convert departure column data into a DataFrame (if it's in dictionary format)\n",
    "departure_df = pd.DataFrame(departure_data.tolist())\n",
    "\n",
    "# Extract relevant columns\n",
    "departure_df_result = departure_df[['delay', 'scheduledTime', 'actualTime']]\n",
    "\n",
    "# Convert time columns to datetime format\n",
    "departure_df_result['scheduledTime'] = pd.to_datetime(departure_df_result['scheduledTime'], format='%Y-%m-%dT%H:%M:%S.%f')\n",
    "departure_df_result['actualTime'] = pd.to_datetime(departure_df_result['actualTime'], format='%Y-%m-%dT%H:%M:%S.%f')\n",
    "\n",
    "# Extract date and day of the week from 'scheduledTime'\n",
    "departure_df_result['date'] = departure_df_result['scheduledTime'].dt.date\n",
    "departure_df_result['Day of the week'] = departure_df_result['scheduledTime'].dt.day_name()\n",
    "\n",
    "# Display the final DataFrame with the extracted columns\n",
    "print(departure_df_result)"
   ]
  },
  {
   "cell_type": "code",
   "execution_count": 62,
   "metadata": {},
   "outputs": [],
   "source": [
    "airline_data = df['airline']\n",
    "\n",
    "airline_df = pd.DataFrame(airline_data.tolist())\n",
    "airline_df_result = airline_df[['name']]\n",
    "airline_df_result.columns = ['airline']\n",
    "df['airline'] = airline_df_result['airline']"
   ]
  },
  {
   "cell_type": "code",
   "execution_count": 63,
   "metadata": {},
   "outputs": [],
   "source": [
    "df[['delay', 'scheduledTime', 'actualTime', 'date', 'Day of the week']] = departure_df_result\n",
    "df[['airline']] = airline_df_result\n",
    "\n",
    "df = df.drop(columns = ['codeshared', 'flight', 'status', 'departure', 'arrival'])\n",
    "df = df[df['airline'].isin(['delta air lines', 'american airlines', 'southwest airlines', 'jetblue airways', 'frontier airlines', 'alaska airlines', 'aeromexico', 'spirit airlines', 'hawaiian airlines'])]"
   ]
  },
  {
   "cell_type": "code",
   "execution_count": 65,
   "metadata": {},
   "outputs": [],
   "source": [
    "df = pd.DataFrame(df) \n",
    "df.to_csv(\"flights_data.csv\")"
   ]
  }
 ],
 "metadata": {
  "kernelspec": {
   "display_name": "my_env",
   "language": "python",
   "name": "python3"
  },
  "language_info": {
   "codemirror_mode": {
    "name": "ipython",
    "version": 3
   },
   "file_extension": ".py",
   "mimetype": "text/x-python",
   "name": "python",
   "nbconvert_exporter": "python",
   "pygments_lexer": "ipython3",
   "version": "3.12.8"
  }
 },
 "nbformat": 4,
 "nbformat_minor": 2
}
